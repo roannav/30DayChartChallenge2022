{
 "cells": [
  {
   "cell_type": "code",
   "execution_count": null,
   "metadata": {},
   "outputs": [],
   "source": [
    "# Data is from https://mboudour.github.io/2015/10/28/Shakespeare's-Macbeth-Network.html\n",
    "# Then I converted it to csv format: macbeth.csv\n",
    "\n",
    "import pandas as pd\n",
    "import holoviews as hv\n",
    "from holoviews import opts, dim\n",
    "import bokeh"
   ]
  },
  {
   "cell_type": "code",
   "execution_count": null,
   "metadata": {},
   "outputs": [],
   "source": [
    "import warnings\n",
    "warnings.filterwarnings(\"ignore\")"
   ]
  },
  {
   "cell_type": "code",
   "execution_count": null,
   "metadata": {},
   "outputs": [],
   "source": [
    "from bokeh import __version__ as bokeh_version\n",
    "print(\"Bokeh - %s\" % bokeh_version)"
   ]
  },
  {
   "cell_type": "code",
   "execution_count": null,
   "metadata": {},
   "outputs": [],
   "source": [
    "hv.extension('bokeh')  # set bokeh to be the backend for plotting\n",
    "hv.output(size=200)"
   ]
  },
  {
   "cell_type": "code",
   "execution_count": null,
   "metadata": {},
   "outputs": [],
   "source": [
    "data = pd.read_csv(\"macbeth.csv\")\n",
    "data.head()"
   ]
  },
  {
   "cell_type": "code",
   "execution_count": null,
   "metadata": {},
   "outputs": [],
   "source": [
    "num_links = data.shape[0]\n",
    "num_links"
   ]
  },
  {
   "cell_type": "code",
   "execution_count": null,
   "metadata": {},
   "outputs": [],
   "source": [
    "#set(data['A'])"
   ]
  },
  {
   "cell_type": "code",
   "execution_count": null,
   "metadata": {},
   "outputs": [],
   "source": [
    "#set(data['B'])"
   ]
  },
  {
   "cell_type": "code",
   "execution_count": null,
   "metadata": {},
   "outputs": [],
   "source": [
    "roles = set(data['A']).union(set(data['B']))\n",
    "len_nodes = len(roles)\n",
    "len_nodes"
   ]
  },
  {
   "cell_type": "code",
   "execution_count": null,
   "metadata": {},
   "outputs": [],
   "source": [
    "nodes = hv.Dataset(pd.DataFrame(list(roles), columns =['Nodes']))\n",
    "nodes.data.head()"
   ]
  },
  {
   "cell_type": "code",
   "execution_count": null,
   "metadata": {
    "scrolled": true
   },
   "outputs": [],
   "source": [
    "chord = hv.Chord(data)"
   ]
  },
  {
   "cell_type": "code",
   "execution_count": null,
   "metadata": {
    "scrolled": true
   },
   "outputs": [],
   "source": [
    "chord.opts(\n",
    "    opts.Chord(\n",
    "        labels='index',\n",
    "        cmap='Category20',\n",
    "        edge_cmap='Category20',\n",
    "        edge_color=dim('A').str(), \n",
    "        node_color=dim('index').str()\n",
    "    )\n",
    ")"
   ]
  },
  {
   "cell_type": "code",
   "execution_count": null,
   "metadata": {},
   "outputs": [],
   "source": [
    "# same as above, but limit it to stronger relationships (ie weight 2+), \n",
    "# so that the Chord chart is not over crowded\n",
    "chord = hv.Chord(data).select(weight=(2,None))\n",
    "chord.opts(\n",
    "    opts.Chord(\n",
    "        labels='index',\n",
    "        cmap='Category20', \n",
    "        edge_cmap='Category20',\n",
    "        edge_color=dim('A').str(), \n",
    "        node_color=dim('index').str()\n",
    "    )\n",
    ")"
   ]
  },
  {
   "cell_type": "code",
   "execution_count": null,
   "metadata": {},
   "outputs": [],
   "source": [
    "# same as above, but limit it to stronger relationships (ie weight 2+), \n",
    "# so that the Chord chart is not over crowded.\n",
    "# and make lines thicker, make background black, add title, and remove toolbar\n",
    "chord = hv.Chord(data).select(weight=(2,None))\n",
    "chord.opts(\n",
    "    opts.Chord(\n",
    "        labels='index',    # label each node with the text in the dataframe's \"Nodes\" column\n",
    "        cmap='Category20', \n",
    "        edge_cmap='Category20',    # make the nodes and links the matching color\n",
    "        edge_color=dim('A').str(), \n",
    "        node_color=dim('index').str(),\n",
    "        edge_alpha=0.8,\n",
    "        edge_line_width=10,\n",
    "        node_size=15,\n",
    "        label_text_color=\"white\",\n",
    "        bgcolor=\"black\",\n",
    "        height=500, width=500,\n",
    "        #fontscale=2,\n",
    "        fontsize={'title': 24, 'labels': 16},\n",
    "        title='Macbeth: main conversational relationships',\n",
    "        toolbar=None\n",
    "    ) \n",
    ")"
   ]
  },
  {
   "cell_type": "code",
   "execution_count": null,
   "metadata": {},
   "outputs": [],
   "source": [
    "hv.save(chord, 'macbeth.png', fmt='png')"
   ]
  },
  {
   "cell_type": "code",
   "execution_count": null,
   "metadata": {},
   "outputs": [],
   "source": [
    "# same as the original one except that I make the edge_color 'B', instead of 'A'\n",
    "#===> not as pretty\n",
    "\n",
    "chord = hv.Chord(data)\n",
    "chord.opts(\n",
    "    opts.Chord(\n",
    "        labels='index',\n",
    "        cmap='Category20',\n",
    "        edge_cmap='Category20',\n",
    "        edge_color=dim('B').str(), \n",
    "        node_color=dim('index').str()\n",
    "    )\n",
    ")"
   ]
  },
  {
   "cell_type": "code",
   "execution_count": null,
   "metadata": {},
   "outputs": [],
   "source": []
  }
 ],
 "metadata": {
  "kernelspec": {
   "display_name": "Python 3",
   "language": "python",
   "name": "python3"
  },
  "language_info": {
   "codemirror_mode": {
    "name": "ipython",
    "version": 3
   },
   "file_extension": ".py",
   "mimetype": "text/x-python",
   "name": "python",
   "nbconvert_exporter": "python",
   "pygments_lexer": "ipython3",
   "version": "3.7.4"
  }
 },
 "nbformat": 4,
 "nbformat_minor": 2
}
